{
 "cells": [
  {
   "cell_type": "code",
   "execution_count": 3,
   "id": "0991884d",
   "metadata": {},
   "outputs": [
    {
     "name": "stdout",
     "output_type": "stream",
     "text": [
      "3\n",
      "1\n",
      "3\n"
     ]
    }
   ],
   "source": [
    "\n",
    "def lengthOfLongestSubstring(s):\n",
    "    # Initialize the variables\n",
    "    start = 0\n",
    "    end = 0\n",
    "    max_len = 0\n",
    "    char_set = set()\n",
    "    while end < len(s):\n",
    "        # Check if the character is in the set\n",
    "        if s[end] not in char_set:\n",
    "            # Adding the character to the set\n",
    "            char_set.add(s[end])\n",
    "            end += 1\n",
    "            # Maximum length\n",
    "            max_len = max(max_len, end - start)\n",
    "        else:\n",
    "            # Removing the character from the set\n",
    "            char_set.remove(s[start])\n",
    "            start += 1\n",
    "    return max_len\n",
    "\n",
    "print(lengthOfLongestSubstring(\"abcabcbb\")) \n",
    "print(lengthOfLongestSubstring(\"bbbbb\")) \n",
    "print(lengthOfLongestSubstring(\"pwwkew\"))      "
   ]
  },
  {
   "cell_type": "code",
   "execution_count": null,
   "id": "243b6c45",
   "metadata": {},
   "outputs": [],
   "source": []
  }
 ],
 "metadata": {
  "kernelspec": {
   "display_name": "Python 3 (ipykernel)",
   "language": "python",
   "name": "python3"
  },
  "language_info": {
   "codemirror_mode": {
    "name": "ipython",
    "version": 3
   },
   "file_extension": ".py",
   "mimetype": "text/x-python",
   "name": "python",
   "nbconvert_exporter": "python",
   "pygments_lexer": "ipython3",
   "version": "3.11.4"
  }
 },
 "nbformat": 4,
 "nbformat_minor": 5
}
