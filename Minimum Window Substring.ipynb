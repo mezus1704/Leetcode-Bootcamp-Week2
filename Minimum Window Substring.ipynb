{
 "cells": [
  {
   "cell_type": "code",
   "execution_count": 3,
   "id": "aff5385f",
   "metadata": {},
   "outputs": [
    {
     "name": "stdout",
     "output_type": "stream",
     "text": [
      "BANC\n",
      "a\n",
      "\n"
     ]
    }
   ],
   "source": [
    "def minWindow(s, t):\n",
    "    if not s or not t:\n",
    "        return \"\"\n",
    "\n",
    "# Creating dictionaries to store the character counts for t and the current window\n",
    "    target_count = {}\n",
    "    current_count = {}\n",
    "    for char in t:\n",
    "        target_count[char] = target_count.get(char, 0) + 1\n",
    "        \n",
    "    left = 0\n",
    "    min_len = float('inf')\n",
    "    min_window = \"\"\n",
    "    required_chars = len(target_count)\n",
    "    formed_chars = 0\n",
    "\n",
    "    for right in range(len(s)):\n",
    "        char_right = s[right]\n",
    "\n",
    "        # Updating the current count\n",
    "        current_count[char_right] = current_count.get(char_right, 0) + 1\n",
    "\n",
    "        # Checking if the current character is in t and its count is met\n",
    "        if char_right in target_count and current_count[char_right] == target_count[char_right]:\n",
    "            formed_chars += 1\n",
    "\n",
    "        # Minimizing the window size by moving the left pointer\n",
    "        while left <= right and formed_chars == required_chars:\n",
    "            char_left = s[left]\n",
    "\n",
    "            # Minimum window\n",
    "            if right - left + 1 < min_len:\n",
    "                min_len = right - left + 1\n",
    "                min_window = s[left:right + 1]\n",
    "\n",
    "            # Shrinking the window from left\n",
    "            current_count[char_left] -= 1\n",
    "            if char_left in target_count and current_count[char_left] < target_count[char_left]:\n",
    "                formed_chars -= 1\n",
    "\n",
    "            left += 1\n",
    "\n",
    "    return min_window\n",
    "\n",
    "\n",
    "print(minWindow(\"ADOBECODEBANC\",\"ABC\"))\n",
    "print(minWindow(\"a\",\"a\"))\n",
    "print(minWindow(\"a\",\"aaa\"))"
   ]
  },
  {
   "cell_type": "code",
   "execution_count": null,
   "id": "ab27acd8",
   "metadata": {},
   "outputs": [],
   "source": []
  }
 ],
 "metadata": {
  "kernelspec": {
   "display_name": "Python 3 (ipykernel)",
   "language": "python",
   "name": "python3"
  },
  "language_info": {
   "codemirror_mode": {
    "name": "ipython",
    "version": 3
   },
   "file_extension": ".py",
   "mimetype": "text/x-python",
   "name": "python",
   "nbconvert_exporter": "python",
   "pygments_lexer": "ipython3",
   "version": "3.11.4"
  }
 },
 "nbformat": 4,
 "nbformat_minor": 5
}
