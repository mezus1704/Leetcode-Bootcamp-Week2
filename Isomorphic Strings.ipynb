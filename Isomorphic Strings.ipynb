{
 "cells": [
  {
   "cell_type": "code",
   "execution_count": 8,
   "id": "7108eff9",
   "metadata": {},
   "outputs": [
    {
     "name": "stdout",
     "output_type": "stream",
     "text": [
      "True\n"
     ]
    }
   ],
   "source": [
    "def is_isomorphic(s, t):\n",
    "    # Create a set to store the unique characters in s\n",
    "    s_set = set(s)\n",
    "    # Create a set to store the unique characters in t\n",
    "    t_set = set(t)\n",
    "    # Checking if the number of unique characters in s and t are equal\n",
    "    if len(s_set) != len(t_set):\n",
    "        return False\n",
    "    #Storing the mapping between characters in s and t\n",
    "    char_map = {}\n",
    "\n",
    "    for i in range(len(s)):\n",
    "       \n",
    "        if s[i] in char_map:\n",
    "            # Checking if the mapped character matches the character in t\n",
    "            if char_map[s[i]] != t[i]:\n",
    "                return False\n",
    "        else:\n",
    "            char_map[s[i]] = t[i]\n",
    "    return True\n",
    "\n",
    "\n",
    "print(is_isomorphic(\"paper\",\"title\"))\n",
    "print(is_isomorphic(\"egg\",\"title\"))\n",
    "print(is_isomorphic(\"paper\",\"title\"))"
   ]
  },
  {
   "cell_type": "code",
   "execution_count": null,
   "id": "26a7c4d3",
   "metadata": {},
   "outputs": [],
   "source": []
  }
 ],
 "metadata": {
  "kernelspec": {
   "display_name": "Python 3 (ipykernel)",
   "language": "python",
   "name": "python3"
  },
  "language_info": {
   "codemirror_mode": {
    "name": "ipython",
    "version": 3
   },
   "file_extension": ".py",
   "mimetype": "text/x-python",
   "name": "python",
   "nbconvert_exporter": "python",
   "pygments_lexer": "ipython3",
   "version": "3.11.4"
  }
 },
 "nbformat": 4,
 "nbformat_minor": 5
}
